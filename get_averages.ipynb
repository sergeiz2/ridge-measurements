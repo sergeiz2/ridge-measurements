{
 "cells": [
  {
   "cell_type": "code",
   "execution_count": 6,
   "metadata": {},
   "outputs": [],
   "source": [
    "import pandas as pd\n",
    "import numpy as np\n",
    "import mysql.connector as mysql\n",
    "\n",
    "db = mysql.connect(\n",
    "    host = \"localhost\",\n",
    "    user = \"editekk\",\n",
    "    passwd = \"editekk\",\n",
    "    database = \"RidgeMeasurements\"\n",
    ")\n",
    "cursor = db.cursor()"
   ]
  },
  {
   "cell_type": "code",
   "execution_count": 37,
   "metadata": {},
   "outputs": [],
   "source": [
    "cursor.execute(\"DROP TABLE pedicle_screw_averages\")"
   ]
  },
  {
   "cell_type": "code",
   "execution_count": 38,
   "metadata": {},
   "outputs": [],
   "source": [
    "exec = str(\n",
    "    \"CREATE TABLE pedicle_screw_averages \" \n",
    "    # \"(id INT(11) NOT NULL AUTO_INCREMENT PRIMARY KEY, \"\n",
    "    \"(sample_id VARCHAR(15), \"\n",
    "    \"fluence FLOAT(24), \" \n",
    "    \"dims VARCHAR(15), \" \n",
    "    \"batch VARCHAR(15), \" \n",
    "    \"radial_loc VARCHAR(3), \"\n",
    "    \"linear_loc VARCHAR(7), \"\n",
    "    \"thread_loc VARCHAR(7), \"\n",
    "    \"wavlen_avg_validate FLOAT(10), \"\n",
    "    \"wavelen_avg_new FLOAT(10))\")\n",
    "cursor.execute(exec)"
   ]
  },
  {
   "cell_type": "code",
   "execution_count": 39,
   "metadata": {},
   "outputs": [],
   "source": [
    "cursor.execute(\"SELECT sample_id, radial_loc, linear_loc, thread_loc FROM pedicle_screw_summary\")\n",
    "loc_data = cursor.fetchall()\n",
    "\n",
    "cursor.execute(\"SELECT wavelength, line_len, line_ints FROM pedicle_screw_summary\")\n",
    "wavlen_data = cursor.fetchall()"
   ]
  },
  {
   "cell_type": "code",
   "execution_count": 40,
   "metadata": {},
   "outputs": [],
   "source": [
    "def get_vals_str(i):\n",
    "    # TODO: CHECKME:\n",
    "    return str(\n",
    "        \"SELECT line_count, \"\n",
    "        \"sample_id, \"\n",
    "        \"fluence, \"\n",
    "        \"dims, \"\n",
    "        \"batch, \"\n",
    "        \"radial_loc, \"\n",
    "        \"linear_loc, \"\n",
    "        \"thread_loc \"\n",
    "        \"FROM pedicle_screw_summary \"\n",
    "        \"WHERE id=\" + str(i+1))\n",
    "\n",
    "def insert_vals(fet, avg_valid, avg_new):\n",
    "    _fetch = fet[0][1:] + tuple([avg_valid, avg_new])\n",
    "    exec = str(\n",
    "            \"INSERT INTO pedicle_screw_averages \"\n",
    "            \" VALUES \" + str(_fetch)\n",
    "    )\n",
    "    cursor.execute(exec)\n",
    "    db.commit()\n"
   ]
  },
  {
   "cell_type": "code",
   "execution_count": 41,
   "metadata": {},
   "outputs": [],
   "source": [
    "sum_wl = wavlen_data[0][0]\n",
    "sum_ll = wavlen_data[0][1]\n",
    "sum_li = wavlen_data[0][2]\n",
    "line_count = 1\n",
    "len_loc_data = len(loc_data)\n",
    "for i in range(len_loc_data-1):\n",
    "    if loc_data[i] == loc_data[i+1]:\n",
    "        sum_wl += wavlen_data[i+1][0]\n",
    "        sum_ll += wavlen_data[i+1][1]\n",
    "        sum_li += wavlen_data[i+0][2]\n",
    "        line_count += 1\n",
    "    else:\n",
    "        cursor.execute(get_vals_str(i))\n",
    "        fetch = cursor.fetchall()\n",
    "        avg_vd = sum_wl / line_count\n",
    "        avg_new = sum_ll / sum_li\n",
    "        insert_vals(fetch, avg_vd, avg_new)\n",
    "        sum_wl = wavlen_data[i+1][0]\n",
    "        sum_ll = wavlen_data[i+0][1]\n",
    "        sum_li = wavlen_data[i+0][2]\n",
    "        line_count = 1\n",
    "\n",
    "cursor.execute(\"SELECT line_count FROM pedicle_screw_summary ORDER BY ID DESC LIMIT 1\")\n",
    "last_count = cursor.fetchall()\n",
    "cursor.execute(get_vals_str(len_loc_data-1))\n",
    "last_row = cursor.fetchall()\n",
    "avg_vd = sum_wl / last_count[0][0]\n",
    "avg_new = sum_ll / sum_li\n",
    "insert_vals(last_row, avg_vd, avg_new)"
   ]
  },
  {
   "cell_type": "code",
   "execution_count": 51,
   "metadata": {},
   "outputs": [],
   "source": [
    "cursor.execute(\"SELECT DISTINCT sample_id FROM pedicle_screw_averages\")\n",
    "for s in cursor.fetchall():\n",
    "    cursor.execute(str(\"SELECT COUNT(sample_id) FROM pedicle_screw_averages WHERE sample_id='\" + s[0] + \"' AND radial_loc='r1'\"))\n",
    "    if cursor.fetchall()[0][0] != 6:\n",
    "        cursor.execute(str(\"UPDATE pedicle_screw_averages SET quality_ctrl='FAIL' WHERE sample_id='\" + s[0] + \"' AND radial_loc='r1'\"))\n",
    "        db.commit()"
   ]
  }
 ],
 "metadata": {
  "interpreter": {
   "hash": "d81f6ac33a48a5910635179b26b0cbfe5beab5073bceeeeae475b71b29ab85e1"
  },
  "kernelspec": {
   "display_name": "Python 3.7.11 64-bit ('ridgemeas': conda)",
   "language": "python",
   "name": "python3"
  },
  "language_info": {
   "codemirror_mode": {
    "name": "ipython",
    "version": 3
   },
   "file_extension": ".py",
   "mimetype": "text/x-python",
   "name": "python",
   "nbconvert_exporter": "python",
   "pygments_lexer": "ipython3",
   "version": "3.7.11"
  },
  "orig_nbformat": 4
 },
 "nbformat": 4,
 "nbformat_minor": 2
}
